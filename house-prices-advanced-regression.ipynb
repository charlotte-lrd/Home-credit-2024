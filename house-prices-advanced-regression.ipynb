{
 "cells": [
  {
   "cell_type": "code",
   "execution_count": 3,
   "id": "611e01ba",
   "metadata": {
    "_cell_guid": "b1076dfc-b9ad-4769-8c92-a6c4dae69d19",
    "_uuid": "8f2839f25d086af736a60e9eeb907d3b93b6e0e5",
    "execution": {
     "iopub.execute_input": "2024-04-07T13:09:18.015923Z",
     "iopub.status.busy": "2024-04-07T13:09:18.015498Z",
     "iopub.status.idle": "2024-04-07T13:09:19.054936Z",
     "shell.execute_reply": "2024-04-07T13:09:19.053697Z"
    },
    "papermill": {
     "duration": 1.053758,
     "end_time": "2024-04-07T13:09:19.057992",
     "exception": false,
     "start_time": "2024-04-07T13:09:18.004234",
     "status": "completed"
    },
    "tags": []
   },
   "outputs": [],
   "source": [
    "# This Python 3 environment comes with many helpful analytics libraries installed\n",
    "# It is defined by the kaggle/python Docker image: https://github.com/kaggle/docker-python\n",
    "# For example, here's several helpful packages to load\n",
    "\n",
    "import numpy as np # linear algebra\n",
    "import pandas as pd # data processing, CSV file I/O (e.g. pd.read_csv)\n",
    "\n",
    "# Input data files are available in the read-only \"../input/\" directory\n",
    "# For example, running this (by clicking run or pressing Shift+Enter) will list all files under the input directory\n",
    "\n",
    "import os\n",
    "for dirname, _, filenames in os.walk('/kaggle/input'):\n",
    "    for filename in filenames:\n",
    "        print(os.path.join(dirname, filename))\n",
    "\n",
    "# You can write up to 20GB to the current directory (/kaggle/working/) that gets preserved as output when you create a version using \"Save & Run All\" \n",
    "# You can also write temporary files to /kaggle/temp/, but they won't be saved outside of the current session"
   ]
  },
  {
   "cell_type": "code",
   "execution_count": 4,
   "id": "b1434bf4",
   "metadata": {
    "execution": {
     "iopub.execute_input": "2024-04-07T13:09:19.077142Z",
     "iopub.status.busy": "2024-04-07T13:09:19.076623Z",
     "iopub.status.idle": "2024-04-07T13:09:21.002095Z",
     "shell.execute_reply": "2024-04-07T13:09:21.001005Z"
    },
    "papermill": {
     "duration": 1.938331,
     "end_time": "2024-04-07T13:09:21.004991",
     "exception": false,
     "start_time": "2024-04-07T13:09:19.066660",
     "status": "completed"
    },
    "tags": []
   },
   "outputs": [],
   "source": [
    "import pandas as pd\n",
    "from sklearn.preprocessing import LabelEncoder\n",
    "import numpy as np\n",
    "from sklearn.model_selection import train_test_split\n",
    "from sklearn.ensemble import RandomForestRegressor\n",
    "from sklearn.metrics import mean_squared_error\n",
    "from math import sqrt\n",
    "from sklearn.linear_model import LinearRegression"
   ]
  },
  {
   "cell_type": "code",
   "execution_count": 5,
   "id": "4f7e74ad",
   "metadata": {
    "execution": {
     "iopub.execute_input": "2024-04-07T13:09:21.024661Z",
     "iopub.status.busy": "2024-04-07T13:09:21.023548Z",
     "iopub.status.idle": "2024-04-07T13:09:21.119376Z",
     "shell.execute_reply": "2024-04-07T13:09:21.118113Z"
    },
    "papermill": {
     "duration": 0.108671,
     "end_time": "2024-04-07T13:09:21.122396",
     "exception": false,
     "start_time": "2024-04-07T13:09:21.013725",
     "status": "completed"
    },
    "tags": []
   },
   "outputs": [],
   "source": [
    "train = pd.read_csv(r\"C:\\Users\\lrd\\Desktop\\kaggle\\house_price\\train.csv\")\n",
    "test = pd.read_csv(r\"C:\\Users\\lrd\\Desktop\\kaggle\\house_price\\test.csv\")"
   ]
  },
  {
   "cell_type": "code",
   "execution_count": 6,
   "id": "e7353843",
   "metadata": {
    "execution": {
     "iopub.execute_input": "2024-04-07T13:09:21.701027Z",
     "iopub.status.busy": "2024-04-07T13:09:21.700622Z",
     "iopub.status.idle": "2024-04-07T13:09:21.710252Z",
     "shell.execute_reply": "2024-04-07T13:09:21.709128Z"
    },
    "papermill": {
     "duration": 0.024819,
     "end_time": "2024-04-07T13:09:21.713016",
     "exception": false,
     "start_time": "2024-04-07T13:09:21.688197",
     "status": "completed"
    },
    "tags": []
   },
   "outputs": [],
   "source": [
    "columns=['Alley','MasVnrType','FireplaceQu','PoolQC','Fence','MiscFeature','Utilities','Street']\n",
    "train=train.drop(columns,axis=1)\n",
    "test=test.drop(columns,axis=1)"
   ]
  },
  {
   "cell_type": "code",
   "execution_count": 7,
   "id": "ef6eae40",
   "metadata": {
    "execution": {
     "iopub.execute_input": "2024-04-07T13:09:21.737859Z",
     "iopub.status.busy": "2024-04-07T13:09:21.737176Z",
     "iopub.status.idle": "2024-04-07T13:09:21.774977Z",
     "shell.execute_reply": "2024-04-07T13:09:21.773643Z"
    },
    "papermill": {
     "duration": 0.053283,
     "end_time": "2024-04-07T13:09:21.777828",
     "exception": false,
     "start_time": "2024-04-07T13:09:21.724545",
     "status": "completed"
    },
    "tags": []
   },
   "outputs": [],
   "source": [
    "a=['BsmtQual','BsmtCond','BsmtExposure','BsmtFinType1','BsmtFinType2','Electrical','GarageType','GarageFinish','GarageQual','GarageCond']\n",
    "for i in a:\n",
    "    train[i]=train[i].fillna(train[i].mode()[0])\n",
    "    test[i]=test[i].fillna(test[i].mode()[0])\n",
    "\n",
    "c=['MSZoning','Exterior1st','Exterior2nd','KitchenQual','Functional','SaleType']\n",
    "for i in c:\n",
    "    test[i]=test[i].fillna(test[i].mode()[0])\n"
   ]
  },
  {
   "cell_type": "code",
   "execution_count": 8,
   "id": "08685e29",
   "metadata": {
    "execution": {
     "iopub.execute_input": "2024-04-07T13:09:21.802044Z",
     "iopub.status.busy": "2024-04-07T13:09:21.801657Z",
     "iopub.status.idle": "2024-04-07T13:09:21.817550Z",
     "shell.execute_reply": "2024-04-07T13:09:21.816450Z"
    },
    "papermill": {
     "duration": 0.031013,
     "end_time": "2024-04-07T13:09:21.820201",
     "exception": false,
     "start_time": "2024-04-07T13:09:21.789188",
     "status": "completed"
    },
    "tags": []
   },
   "outputs": [],
   "source": [
    "b=['LotFrontage','MasVnrArea','GarageYrBlt']\n",
    "for i in b:\n",
    "    train[i]=train[i].fillna(train[i].mean())\n",
    "    test[i]=test[i].fillna(test[i].mean())\n",
    "\n",
    "d=['BsmtFinSF1','BsmtFinSF2','BsmtUnfSF','TotalBsmtSF','BsmtFullBath','BsmtHalfBath','GarageCars','GarageArea']\n",
    "for i in d:\n",
    "    test[i]=test[i].fillna(test[i].mean())"
   ]
  },
  {
   "cell_type": "code",
   "execution_count": 9,
   "id": "f01dbfd4",
   "metadata": {
    "execution": {
     "iopub.execute_input": "2024-04-07T13:09:21.844877Z",
     "iopub.status.busy": "2024-04-07T13:09:21.844450Z",
     "iopub.status.idle": "2024-04-07T13:09:21.867033Z",
     "shell.execute_reply": "2024-04-07T13:09:21.865833Z"
    },
    "papermill": {
     "duration": 0.038389,
     "end_time": "2024-04-07T13:09:21.869814",
     "exception": false,
     "start_time": "2024-04-07T13:09:21.831425",
     "status": "completed"
    },
    "tags": []
   },
   "outputs": [],
   "source": [
    "train['TotalSF']=train['TotalBsmtSF']+train['1stFlrSF']+train['2ndFlrSF']\n",
    "test['TotalSF']=test['TotalBsmtSF']+test['1stFlrSF']+test['2ndFlrSF']\n",
    "train['Age']=train['YrSold']-train['YearBuilt']\n",
    "test['Age']=test['YrSold']-test['YearBuilt']\n",
    "train['RemodelAge']=train['YearRemodAdd']!=train['YearBuilt'].astype(int)\n",
    "test['RemodelAge']=test['YearRemodAdd']!=test['YearBuilt'].astype(int)\n",
    "\n",
    "train=train.drop(['YearBuilt','YearRemodAdd','YrSold','TotalBsmtSF','1stFlrSF','2ndFlrSF'],axis=1)\n",
    "test=test.drop(['YearBuilt','YearRemodAdd','YrSold','TotalBsmtSF','1stFlrSF','2ndFlrSF'],axis=1)\n",
    "train['RemodelAge']=train['RemodelAge'].astype(int)\n",
    "test['RemodelAge']=test['RemodelAge'].astype(int)"
   ]
  },
  {
   "cell_type": "code",
   "execution_count": 10,
   "id": "76653da9",
   "metadata": {
    "execution": {
     "iopub.execute_input": "2024-04-07T13:09:21.894220Z",
     "iopub.status.busy": "2024-04-07T13:09:21.893271Z",
     "iopub.status.idle": "2024-04-07T13:09:21.955360Z",
     "shell.execute_reply": "2024-04-07T13:09:21.954311Z"
    },
    "papermill": {
     "duration": 0.077126,
     "end_time": "2024-04-07T13:09:21.958061",
     "exception": false,
     "start_time": "2024-04-07T13:09:21.880935",
     "status": "completed"
    },
    "tags": []
   },
   "outputs": [],
   "source": [
    "le=LabelEncoder()\n",
    "for i in train.columns:\n",
    "    if train[i].dtype=='object':\n",
    "        train[i]=le.fit_transform(train[i])\n",
    "for i in test.columns:\n",
    "    if test[i].dtype=='object':\n",
    "        test[i]=le.fit_transform(test[i])"
   ]
  },
  {
   "cell_type": "code",
   "execution_count": 11,
   "id": "2e240fe0",
   "metadata": {
    "execution": {
     "iopub.execute_input": "2024-04-07T13:09:21.982031Z",
     "iopub.status.busy": "2024-04-07T13:09:21.981658Z",
     "iopub.status.idle": "2024-04-07T13:09:21.987676Z",
     "shell.execute_reply": "2024-04-07T13:09:21.986271Z"
    },
    "papermill": {
     "duration": 0.0213,
     "end_time": "2024-04-07T13:09:21.990367",
     "exception": false,
     "start_time": "2024-04-07T13:09:21.969067",
     "status": "completed"
    },
    "tags": []
   },
   "outputs": [],
   "source": [
    "train['SalePrice']=np.log1p(train['SalePrice'])"
   ]
  },
  {
   "cell_type": "code",
   "execution_count": 12,
   "id": "17513e21",
   "metadata": {
    "execution": {
     "iopub.execute_input": "2024-04-07T13:09:22.016075Z",
     "iopub.status.busy": "2024-04-07T13:09:22.015334Z",
     "iopub.status.idle": "2024-04-07T13:09:22.022600Z",
     "shell.execute_reply": "2024-04-07T13:09:22.021553Z"
    },
    "papermill": {
     "duration": 0.02312,
     "end_time": "2024-04-07T13:09:22.025213",
     "exception": false,
     "start_time": "2024-04-07T13:09:22.002093",
     "status": "completed"
    },
    "tags": []
   },
   "outputs": [],
   "source": [
    "x=train.drop(['SalePrice'],axis=1)\n",
    "y=train['SalePrice']"
   ]
  },
  {
   "cell_type": "code",
   "execution_count": 14,
   "id": "ad50b806",
   "metadata": {
    "execution": {
     "iopub.execute_input": "2024-04-07T13:09:22.089927Z",
     "iopub.status.busy": "2024-04-07T13:09:22.089469Z",
     "iopub.status.idle": "2024-04-07T13:09:23.709082Z",
     "shell.execute_reply": "2024-04-07T13:09:23.707678Z"
    },
    "papermill": {
     "duration": 1.635501,
     "end_time": "2024-04-07T13:09:23.711947",
     "exception": false,
     "start_time": "2024-04-07T13:09:22.076446",
     "status": "completed"
    },
    "tags": []
   },
   "outputs": [
    {
     "name": "stdout",
     "output_type": "stream",
     "text": [
      "交叉验证的均方根误差： [0.14199840771389224, 0.12665318576567636, 0.14058501454225564, 0.1334782764899617, 0.11721507588170056]\n",
      "均方根误差的平均值： 0.1319859920786973\n"
     ]
    }
   ],
   "source": [
    "import numpy as np\n",
    "import pandas as pd\n",
    "import xgboost as xgb\n",
    "from sklearn.model_selection import KFold\n",
    "from sklearn.metrics import mean_squared_error\n",
    "from sklearn.preprocessing import StandardScaler\n",
    "scaler = StandardScaler()\n",
    "# 定义 KFold 参数\n",
    "n_splits = 5\n",
    "kf = KFold(n_splits=n_splits, shuffle=True, random_state=42)\n",
    "params = {\n",
    "    'booster': 'gbtree',\n",
    "    'verbosity': 0,\n",
    "    'nthread': 3,\n",
    "    'disable_default_eval_metric': 1,\n",
    "    'eta': 0.1,\n",
    "    'max_depth': 5,\n",
    "    'min_child_weight': 1,\n",
    "    'gamma': 0,\n",
    "    'subsample': 0.8,\n",
    "    'colsample_bytree': 1.,\n",
    "    'lambda': 3,\n",
    "    'alpha': 1,\n",
    "    'objective': 'reg:squarederror',\n",
    "    'eval_metric': 'rmse',\n",
    "}\n",
    "\n",
    "# 交叉验证\n",
    "rmses = []\n",
    "for train_index, test_index in kf.split(x):\n",
    "    X_train, X_test = x.iloc[train_index], x.iloc[test_index]\n",
    "    y_train, y_test = y.iloc[train_index], y.iloc[test_index]\n",
    "    \n",
    "    # 构建 DMatrix 数据对象\n",
    "    X_train = pd.DataFrame(scaler.fit_transform(X_train), columns=X_train.columns)\n",
    "    X_train = X_train.fillna(X_train.mode())\n",
    "    X_test = pd.DataFrame(scaler.transform(X_test), columns=X_test.columns)\n",
    "    X_test = X_test.fillna(X_train.mode())\n",
    "    dtrain = xgb.DMatrix(X_train, label=y_train)\n",
    "    dtest = xgb.DMatrix(X_test, label=y_test)\n",
    "    \n",
    "    # 训练模型\n",
    "    model = xgb.train(params,dtrain,num_boost_round=150)\n",
    "    \n",
    "    # 预测并计算均方根误差\n",
    "    y_pred = model.predict(dtest)\n",
    "    rmse = np.sqrt(mean_squared_error(y_test, y_pred))\n",
    "    rmses.append(rmse)\n",
    "\n",
    "# 输出交叉验证的均方根误差\n",
    "print(\"交叉验证的均方根误差：\", rmses)\n",
    "print(\"均方根误差的平均值：\", np.mean(rmses))"
   ]
  },
  {
   "cell_type": "code",
   "execution_count": 20,
   "id": "3c9cddfb",
   "metadata": {
    "execution": {
     "iopub.execute_input": "2024-04-07T13:09:24.041942Z",
     "iopub.status.busy": "2024-04-07T13:09:24.039611Z",
     "iopub.status.idle": "2024-04-07T13:09:24.125628Z",
     "shell.execute_reply": "2024-04-07T13:09:24.124513Z"
    },
    "papermill": {
     "duration": 0.115407,
     "end_time": "2024-04-07T13:09:24.129121",
     "exception": false,
     "start_time": "2024-04-07T13:09:24.013714",
     "status": "completed"
    },
    "tags": []
   },
   "outputs": [],
   "source": [
    "submission=pd.DataFrame()\n",
    "submission['Id']=test['Id']\n",
    "test1 = xgb.DMatrix(test)\n",
    "final_predictions=model.predict(test1)\n",
    "final_predictions=np.exp(final_predictions)\n",
    "submission['SalePrice']=final_predictions\n",
    "submission.to_csv(r'C:\\Users\\lrd\\Desktop\\kaggle\\house_price\\result.csv',index = False)"
   ]
  },
  {
   "cell_type": "code",
   "execution_count": 19,
   "id": "2eacc15b",
   "metadata": {},
   "outputs": [
    {
     "data": {
      "text/plain": [
       "<AxesSubplot:>"
      ]
     },
     "execution_count": 19,
     "metadata": {},
     "output_type": "execute_result"
    },
    {
     "data": {
      "image/png": "[encoded data removed]",
      "text/plain": [
       "<Figure size 640x480 with 1 Axes>"
      ]
     },
     "metadata": {},
     "output_type": "display_data"
    }
   ],
   "source": [
    "submission['SalePrice'].hist()"
   ]
  },
  {
   "cell_type": "code",
   "execution_count": null,
   "id": "0e48d1c9",
   "metadata": {},
   "outputs": [],
   "source": []
  }
 ],
 "metadata": {
  "kaggle": {
   "accelerator": "none",
   "dataSources": [
    {
     "databundleVersionId": 868283,
     "sourceId": 5407,
     "sourceType": "competition"
    }
   ],
   "dockerImageVersionId": 30673,
   "isGpuEnabled": false,
   "isInternetEnabled": true,
   "language": "python",
   "sourceType": "notebook"
  },
  "kernelspec": {
   "display_name": "Python [conda env:root]",
   "language": "python",
   "name": "conda-root-py"
  },
  "language_info": {
   "codemirror_mode": {
    "name": "ipython",
    "version": 3
   },
   "file_extension": ".py",
   "mimetype": "text/x-python",
   "name": "python",
   "nbconvert_exporter": "python",
   "pygments_lexer": "ipython3",
   "version": "3.9.0"
  },
  "papermill": {
   "default_parameters": {},
   "duration": 10.006042,
   "end_time": "2024-04-07T13:09:24.765067",
   "environment_variables": {},
   "exception": null,
   "input_path": "__notebook__.ipynb",
   "output_path": "__notebook__.ipynb",
   "parameters": {},
   "start_time": "2024-04-07T13:09:14.759025",
   "version": "2.5.0"
  }
 },
 "nbformat": 4,
 "nbformat_minor": 5
}
